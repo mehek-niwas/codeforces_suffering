{
 "cells": [
  {
   "cell_type": "code",
   "execution_count": 1,
   "id": "25aa93fc",
   "metadata": {},
   "outputs": [
    {
     "name": "stdout",
     "output_type": "stream",
     "text": [
      "hello\n"
     ]
    }
   ],
   "source": [
    "print(\"hello\")"
   ]
  },
  {
   "cell_type": "code",
   "execution_count": null,
   "id": "a6fbe78e",
   "metadata": {},
   "outputs": [],
   "source": []
  },
  {
   "cell_type": "markdown",
   "id": "ae6a0a64",
   "metadata": {},
   "source": [
    "problem: https://codeforces.com/problemset/problem/1999/C"
   ]
  },
  {
   "cell_type": "code",
   "execution_count": null,
   "id": "b96333ee",
   "metadata": {},
   "outputs": [],
   "source": [
    "tests = int(input())  # number of test cases\n",
    "\n",
    "print(tests)\n",
    "\n",
    "for _ in range(tests):\n",
    "    line = [*map(int, input().split())]\n",
    "    n, s, m = line[0], line[1], line[2]\n",
    "\n",
    "    giga_start = 0\n",
    "    giga_end = m\n",
    "    found = False\n",
    "\n",
    "    for _ in range(n):\n",
    "        start, end = map(int, input().split())\n",
    "        shower_time = start - giga_start\n",
    "        if shower_time >= s:\n",
    "            print(\"yes\")\n",
    "            found = True\n",
    "            break\n",
    "        else:\n",
    "            giga_start = end\n",
    "\n",
    "    if not found:\n",
    "        # now giga_start is the last end\n",
    "        shower_time = giga_end - giga_start\n",
    "        if shower_time >= s:\n",
    "            print(\"yes\")\n",
    "        else:\n",
    "            print(\"no\")\n"
   ]
  }
 ],
 "metadata": {
  "kernelspec": {
   "display_name": "3.9.6",
   "language": "python",
   "name": "python3"
  },
  "language_info": {
   "codemirror_mode": {
    "name": "ipython",
    "version": 3
   },
   "file_extension": ".py",
   "mimetype": "text/x-python",
   "name": "python",
   "nbconvert_exporter": "python",
   "pygments_lexer": "ipython3",
   "version": "3.9.6"
  }
 },
 "nbformat": 4,
 "nbformat_minor": 5
}
